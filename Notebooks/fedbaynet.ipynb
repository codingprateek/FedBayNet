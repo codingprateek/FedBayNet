{
 "cells": [
  {
   "cell_type": "code",
   "execution_count": 179,
   "id": "babf9fd9",
   "metadata": {},
   "outputs": [],
   "source": [
    "import pandas as pd\n",
    "import numpy as np\n",
    "import matplotlib.pyplot as plt\n",
    "import seaborn as sns\n",
    "import warnings\n",
    "warnings.filterwarnings('ignore')\n",
    "from pgmpy.base import DAG\n",
    "from collections import defaultdict, Counter\n",
    "from typing import Optional, Any, List, Dict, Tuple, Set\n",
    "from pgmpy.models import DiscreteBayesianNetwork\n",
    "from pgmpy.estimators import HillClimbSearch, BIC, K2, BDeu, ExpertKnowledge, GES\n",
    "\n",
    "from pgmpy.estimators import MaximumLikelihoodEstimator, BayesianEstimator\n",
    "from pgmpy.inference import VariableElimination\n",
    "from pgmpy.factors.discrete.CPD import TabularCPD\n",
    "import networkx as nx\n",
    "import json\n",
    "from copy import deepcopy\n",
    "# Model evaluation\n",
    "from sklearn.model_selection import train_test_split\n",
    "from sklearn.metrics import accuracy_score, classification_report, confusion_matrix, roc_auc_score\n"
   ]
  },
  {
   "cell_type": "code",
   "execution_count": 180,
   "id": "a3ddee81",
   "metadata": {},
   "outputs": [],
   "source": [
    "client1_data = pd.read_csv(\"../fc-fedbaynet/data/client1/client.csv\")\n",
    "client2_data = pd.read_csv(\"../fc-fedbaynet/data/client2/client.csv\")\n",
    "client3_data = pd.read_csv(\"../fc-fedbaynet/data/client3/client.csv\")\n",
    "dataset_sizes = [client1_data.shape[0], client2_data.shape[0], client3_data.shape[0]]"
   ]
  },
  {
   "cell_type": "code",
   "execution_count": 181,
   "id": "3e9c0b24",
   "metadata": {},
   "outputs": [],
   "source": [
    "with open(\"../fc-fedbaynet/data/client1/expert_knowledge.json\") as f:\n",
    "    expknowledge = json.load(f)\n",
    "\n",
    "with open(\"../fc-fedbaynet/data/client2/expert_knowledge.json\") as f:\n",
    "    expknowledge = json.load(f)\n",
    "\n",
    "with open(\"../fc-fedbaynet/data/client3/expert_knowledge.json\") as f:\n",
    "    expknowledge = json.load(f)\n",
    "\n",
    "blacklist1 = [tuple(edge) for edge in expknowledge[\"blacklist\"]]\n",
    "whitelist1 = [tuple(edge) for edge in expknowledge[\"whitelist\"]]\n",
    "blacklist2 = [tuple(edge) for edge in expknowledge[\"blacklist\"]]\n",
    "whitelist2 = [tuple(edge) for edge in expknowledge[\"whitelist\"]]\n",
    "blacklist3 = [tuple(edge) for edge in expknowledge[\"blacklist\"]]\n",
    "whitelist3 = [tuple(edge) for edge in expknowledge[\"whitelist\"]]\n",
    "\n",
    "whitelists = [whitelist1, whitelist2, whitelist3]\n",
    "blacklists = [blacklist1, blacklist2, blacklist3]"
   ]
  },
  {
   "cell_type": "code",
   "execution_count": 182,
   "id": "a0ef9db4",
   "metadata": {},
   "outputs": [],
   "source": [
    "def visualize_network(structure: Any = None,\n",
    "                      target_node: str = 'class',\n",
    "                      target_color: str = '#9f0000',\n",
    "                      node_color: str = '#22666F',\n",
    "                      target_size: int = 1200,\n",
    "                      node_size: int = 800,\n",
    "                      seed: int = 23,\n",
    "                      figsize: tuple = (10, 8),\n",
    "                      save_path: Optional[str] = None,\n",
    "                      title_prefix: str = \"Bayesian Network\") -> None:\n",
    "    graph = nx.Graph()\n",
    "    if structure is not None and len(structure.edges()) > 0:\n",
    "        graph.add_edges_from(structure.edges())\n",
    "    \n",
    "    if len(graph.nodes()) == 0:\n",
    "        print(\"No nodes available for visualization.\")\n",
    "        return \n",
    "    \n",
    "    _, ax = plt.subplots(figsize=figsize)\n",
    "    \n",
    "    pos = nx.spring_layout(graph, seed=seed)\n",
    "\n",
    "    node_colors = [target_color if node == target_node else node_color\n",
    "                for node in graph.nodes()]\n",
    "    node_sizes = [target_size if node == target_node else node_size\n",
    "                for node in graph.nodes()]\n",
    "\n",
    "    nx.draw(\n",
    "        graph,\n",
    "        pos,\n",
    "        with_labels=False,\n",
    "        node_color=node_colors,\n",
    "        node_size=node_sizes,\n",
    "        edge_color='gray',\n",
    "        alpha=0.8,\n",
    "        ax=ax \n",
    "    )\n",
    "\n",
    "    nx.draw_networkx_labels(\n",
    "        graph,\n",
    "        pos,\n",
    "        labels={node: node for node in graph.nodes()},\n",
    "        font_color='black',\n",
    "        font_weight='bold',\n",
    "        ax=ax  \n",
    "    )\n",
    "\n",
    "    title = f\"{title_prefix} - {len(graph.nodes())} nodes, {len(graph.edges())} edges\"\n",
    "    ax.set_title(title, fontsize=16, fontweight='bold', pad=20)\n",
    "    ax.axis('off')\n",
    "    \n",
    "    plt.tight_layout()\n",
    "\n",
    "    if save_path:\n",
    "        plt.savefig(save_path, dpi=300, bbox_inches='tight')\n",
    "        print(f\"Network visualization saved to: {save_path}\")\n",
    "\n",
    "    plt.show()"
   ]
  },
  {
   "cell_type": "code",
   "execution_count": 183,
   "id": "29bcc563",
   "metadata": {},
   "outputs": [],
   "source": [
    "def create_initial_client_model(dataset):\n",
    "    hc = HillClimbSearch(dataset)\n",
    "    structure = hc.estimate(scoring_method='bic-d')\n",
    "    model = DiscreteBayesianNetwork(structure.edges())\n",
    "    estimator = BayesianEstimator(model, dataset)\n",
    "    for node in model.nodes():\n",
    "        cpd = estimator.estimate_cpd(node)\n",
    "        model.add_cpds(cpd)\n",
    "    \n",
    "    return model, structure"
   ]
  },
  {
   "cell_type": "code",
   "execution_count": 184,
   "id": "ecbe3fb1",
   "metadata": {},
   "outputs": [],
   "source": [
    "def create_constrained_client_model(dataset, blacklist, whitelist):\n",
    "    hc = HillClimbSearch(dataset)\n",
    "    expknowledge = ExpertKnowledge(forbidden_edges=blacklist, required_edges=whitelist)\n",
    "    structure = hc.estimate(scoring_method='bic-d', expert_knowledge=expknowledge)\n",
    "    model = DiscreteBayesianNetwork(structure.edges())\n",
    "    estimator = BayesianEstimator(model, dataset)\n",
    "    for node in model.nodes():\n",
    "        cpd = estimator.estimate_cpd(node)\n",
    "        model.add_cpds(cpd)\n",
    "    \n",
    "    return model, structure"
   ]
  },
  {
   "cell_type": "code",
   "execution_count": 185,
   "id": "441cd59d",
   "metadata": {},
   "outputs": [],
   "source": [
    "def compute_local_cpts_from_structure_and_data(structure, data):\n",
    "\n",
    "    model = DiscreteBayesianNetwork(structure)\n",
    "    \n",
    "    # 2. Fit the model using MLE\n",
    "    model = model.fit(data, estimator=MaximumLikelihoodEstimator)\n",
    "    \n",
    "    # 3. Extract learned CPDs\n",
    "    cpts_list = []\n",
    "    for cpt in model.get_cpds():\n",
    "        cpt_dict = {\n",
    "            \"variable\": cpt.variable,\n",
    "            \"variable_card\": cpt.variable_card,\n",
    "            \"values\": cpt.values.tolist(),  # Convert numpy array to list\n",
    "            \"evidence\": cpt.get_evidence(),\n",
    "            \"evidence_card\": cpt.cardinality[1:],\n",
    "            \"cardinality\": cpt.cardinality.tolist()\n",
    "        }\n",
    "        cpts_list.append(cpt_dict)\n",
    "\n",
    "    return cpts_list\n"
   ]
  },
  {
   "cell_type": "code",
   "execution_count": 186,
   "id": "c0e2772c",
   "metadata": {},
   "outputs": [],
   "source": [
    "def majority_voted_network(whitelists: List[List[List[str]]],\n",
    "        blacklists: List[List[List[str]]],\n",
    "        local_cpts_scores: List[float]\n",
    "    ) -> Set[Tuple[str, str]]:\n",
    "        \n",
    "        all_edges: Set[Tuple[str, str]] = set()\n",
    "\n",
    "        def add_valid_edges(edge_list):\n",
    "            for edge in edge_list:\n",
    "                if isinstance(edge, (list, tuple)) and len(edge) == 2:\n",
    "                    u, v = edge\n",
    "                    if isinstance(u, str) and isinstance(v, str):\n",
    "                        all_edges.add((u, v))\n",
    "\n",
    "        for wl in whitelists:\n",
    "            add_valid_edges(wl)\n",
    "        for bl in blacklists:\n",
    "            add_valid_edges(bl)\n",
    "\n",
    "        wl_votes: Dict[Tuple[str, str], Set[int]] = {edge: set() for edge in all_edges}\n",
    "        bl_votes: Dict[Tuple[str, str], Set[int]] = {edge: set() for edge in all_edges}\n",
    "\n",
    "        for client_idx, wl in enumerate(whitelists):\n",
    "            for edge in wl:\n",
    "                if tuple(edge) in wl_votes:\n",
    "                    wl_votes[tuple(edge)].add(client_idx)\n",
    "\n",
    "        for client_idx, bl in enumerate(blacklists):\n",
    "            for edge in bl:\n",
    "                if tuple(edge) in bl_votes:\n",
    "                    bl_votes[tuple(edge)].add(client_idx)\n",
    "\n",
    "        final_edges: Set[Tuple[str, str]] = set()\n",
    "\n",
    "        for edge in all_edges:\n",
    "            wl_count = len(wl_votes[edge])\n",
    "            bl_count = len(bl_votes[edge])\n",
    "\n",
    "            if wl_count > bl_count:\n",
    "                final_edges.add(edge)\n",
    "            elif bl_count > wl_count:\n",
    "                continue \n",
    "            else:\n",
    "                wl_score = sum(local_cpts_scores[i] for i in wl_votes[edge])\n",
    "                bl_score = sum(local_cpts_scores[i] for i in bl_votes[edge])\n",
    "\n",
    "                if wl_score >= bl_score:\n",
    "                    final_edges.add(edge)\n",
    "\n",
    "        return final_edges\n",
    "\n",
    "def cpt_confidence_score(local_cpts: List[Dict]) -> float:\n",
    "    score = 0.0\n",
    "    for cpt in local_cpts:\n",
    "        values = np.array(cpt[\"values\"])\n",
    "        max_probs = values.max(axis=0)\n",
    "        score += max_probs.sum()\n",
    "    return score\n",
    "\n",
    "\n",
    "import networkx as nx\n",
    "from typing import List, Dict, Set, Tuple\n",
    "\n",
    "def create_constrained_global_network(\n",
    "    whitelists: List[List[List[str]]],\n",
    "    blacklists: List[List[List[str]]],\n",
    "    local_cpts: List[List[Dict]]\n",
    "):\n",
    "    # Compute confidence scores for each client's CPTs\n",
    "    local_cpts_scores = [cpt_confidence_score(cpts) for cpts in local_cpts]\n",
    "\n",
    "    # Get the final set of edges from majority voting\n",
    "    final_edges = majority_voted_network(\n",
    "        whitelists,\n",
    "        blacklists,\n",
    "        local_cpts_scores\n",
    "    )\n",
    "\n",
    "    # Filter and ensure edges are valid (tuples of strings)\n",
    "    valid_edges = [\n",
    "        (str(u), str(v))\n",
    "        for (u, v) in final_edges\n",
    "        if isinstance(u, str) and isinstance(v, str) and len((u, v)) == 2\n",
    "    ]\n",
    "\n",
    "    # Initialize empty model\n",
    "    model = DiscreteBayesianNetwork()\n",
    "\n",
    "    if valid_edges:\n",
    "        # Extract unique nodes from edges\n",
    "        nodes = set()\n",
    "        for u, v in valid_edges:\n",
    "            nodes.add(u)\n",
    "            nodes.add(v)\n",
    "\n",
    "        # Add all nodes first\n",
    "        for node in nodes:\n",
    "            model.add_node(node)\n",
    "\n",
    "        # Then add edges\n",
    "        for edge in valid_edges:\n",
    "            model.add_edge(*edge)\n",
    "\n",
    "        # Check for cycles and remove edges that cause cycles\n",
    "        G = nx.DiGraph()\n",
    "        G.add_edges_from(valid_edges)\n",
    "\n",
    "        if not nx.is_directed_acyclic_graph(G):\n",
    "            edges_to_keep = []\n",
    "            for edge in valid_edges:\n",
    "                G_temp = nx.DiGraph(edges_to_keep + [edge])\n",
    "                if nx.is_directed_acyclic_graph(G_temp):\n",
    "                    edges_to_keep.append(edge)\n",
    "\n",
    "            # Rebuild the model with only edges that do not create cycles\n",
    "            model = DiscreteBayesianNetwork()\n",
    "            for node in nodes:\n",
    "                model.add_node(node)\n",
    "            for edge in edges_to_keep:\n",
    "                model.add_edge(*edge)\n",
    "    else:\n",
    "        # No edges: add all variables from local CPTs as isolated nodes\n",
    "        for cpts in local_cpts:\n",
    "            for cpt in cpts:\n",
    "                if not model.has_node(cpt[\"variable\"]):\n",
    "                    model.add_node(cpt[\"variable\"])\n",
    "\n",
    "    return model\n"
   ]
  },
  {
   "cell_type": "code",
   "execution_count": 187,
   "id": "f9d47cf2",
   "metadata": {},
   "outputs": [],
   "source": [
    "def aggregate_cpts(cpt_lists, weights):\n",
    "    \n",
    "    if len(cpt_lists) != len(weights):\n",
    "        raise ValueError(\"Number of CPT lists must match number of weights\")\n",
    "    \n",
    "    for i, cpt_list in enumerate(cpt_lists):\n",
    "        if not isinstance(cpt_list, list):\n",
    "            raise TypeError(f\"CPT list at index {i} is not a list: {type(cpt_list)}\")\n",
    "        for j, cpt in enumerate(cpt_list):\n",
    "            if not isinstance(cpt, dict):\n",
    "                raise TypeError(f\"CPT at index {j} in list {i} is not a dict: {type(cpt)}\")\n",
    "            required_keys = ['variable', 'variable_card', 'values', 'evidence', 'evidence_card', 'cardinality']\n",
    "            for key in required_keys:\n",
    "                if key not in cpt:\n",
    "                    raise KeyError(f\"CPT at index {j} in list {i} missing key: {key}\")\n",
    "\n",
    "    # Extract all unique variables\n",
    "    all_variables = set()\n",
    "    for cpt_list in cpt_lists:\n",
    "        for cpt in cpt_list:\n",
    "            all_variables.add(cpt['variable'])\n",
    "    all_variables = sorted(list(all_variables)) \n",
    "    \n",
    "    aggregated_cpts = []\n",
    "    \n",
    "    for var in all_variables:\n",
    "        # Collect CPTs for this variable across all lists\n",
    "        var_cpts = []\n",
    "        cpt_weights = []\n",
    "        for i, cpt_list in enumerate(cpt_lists):\n",
    "            cpt = next((c for c in cpt_list if c['variable'] == var), None)\n",
    "            if cpt is not None:\n",
    "                var_cpts.append(cpt)\n",
    "                cpt_weights.append(weights[i])\n",
    "        \n",
    "        if not var_cpts:\n",
    "            continue  \n",
    "        \n",
    "        # Determine unified evidence structure \n",
    "        evidence_sets = [set(cpt['evidence']) for cpt in var_cpts]\n",
    "        all_evidence = sorted(list(set.union(*evidence_sets)))  \n",
    "        \n",
    "        max_evidence_cards = []\n",
    "        for ev in all_evidence:\n",
    "            max_card = 1\n",
    "            for cpt in var_cpts:\n",
    "                if ev in cpt['evidence']:\n",
    "                    idx = cpt['evidence'].index(ev)\n",
    "                    max_card = max(max_card, cpt['evidence_card'][idx])\n",
    "            max_evidence_cards.append(max_card)\n",
    "        \n",
    "        # Pad evidence dimensions\n",
    "        padded_values = []\n",
    "        for cpt, weight in zip(var_cpts, cpt_weights):\n",
    "            curr_shape = [cpt['variable_card']] + list(cpt['evidence_card'])\n",
    "            curr_evidence = cpt['evidence']\n",
    "            target_shape = [cpt['variable_card']] + max_evidence_cards\n",
    "            \n",
    "            # Convert values to numpy array if it's not already\n",
    "            values = cpt['values']\n",
    "            if not isinstance(values, np.ndarray):\n",
    "                values = np.array(values)\n",
    "            \n",
    "            if values.shape != tuple(curr_shape):\n",
    "                values = np.reshape(values, curr_shape)\n",
    "            \n",
    "            if curr_evidence:\n",
    "                expanded_values = values\n",
    "                \n",
    "                # Build mapping from current evidence to target evidence structure\n",
    "                curr_to_target_map = []\n",
    "                for i, ev in enumerate(all_evidence):\n",
    "                    if ev in curr_evidence:\n",
    "                        curr_idx = curr_evidence.index(ev)\n",
    "                        curr_to_target_map.append(curr_idx + 1) \n",
    "                    else:\n",
    "                        curr_to_target_map.append(-1) \n",
    "                \n",
    "                new_axes_order = [0]\n",
    "                singleton_positions = []\n",
    "                \n",
    "                for i, (ev, target_pos) in enumerate(zip(all_evidence, curr_to_target_map)):\n",
    "                    if target_pos != -1:\n",
    "                        new_axes_order.append(target_pos)\n",
    "                    else:\n",
    "                        singleton_positions.append(i + 1)\n",
    "                \n",
    "                if len(new_axes_order) > 1:\n",
    "                    expanded_values = np.transpose(expanded_values, new_axes_order)\n",
    "                \n",
    "                for pos in singleton_positions:\n",
    "                    expanded_values = np.expand_dims(expanded_values, axis=pos)\n",
    "                \n",
    "                # Pad evidence dimensions to max cardinalities\n",
    "                final_values = np.zeros(target_shape, dtype=float)\n",
    "                slices = [slice(0, cpt['variable_card'])]  \n",
    "                for i, (ev, max_card) in enumerate(zip(all_evidence, max_evidence_cards)):\n",
    "                    if ev in curr_evidence:\n",
    "                        curr_idx = curr_evidence.index(ev)\n",
    "                        curr_card = cpt['evidence_card'][curr_idx]\n",
    "                        slices.append(slice(0, curr_card))\n",
    "                    else:\n",
    "                        slices.append(slice(0, 1))\n",
    "                \n",
    "                final_values[tuple(slices)] = expanded_values\n",
    "                padded_values.append(final_values * weight)\n",
    "                \n",
    "            else:\n",
    "                expanded_values = values\n",
    "                for _ in max_evidence_cards:\n",
    "                    expanded_values = expanded_values[..., np.newaxis]\n",
    "                \n",
    "                # Broadcast to target shape\n",
    "                final_values = np.broadcast_to(expanded_values, target_shape)\n",
    "                padded_values.append(final_values * weight)\n",
    "    \n",
    "        max_var_card = max(cpt['variable_card'] for cpt in var_cpts)\n",
    "        final_shape = [max_var_card] + max_evidence_cards\n",
    "        \n",
    "        final_padded_values = []\n",
    "        \n",
    "        for padded_val, weight in zip(padded_values, cpt_weights):\n",
    "            if padded_val.shape[0] < max_var_card:\n",
    "                final_padded = np.zeros(final_shape, dtype=float)\n",
    "                slices = [slice(0, padded_val.shape[0])] + [slice(0, s) for s in padded_val.shape[1:]]\n",
    "                final_padded[tuple(slices)] = padded_val\n",
    "                final_padded_values.append(final_padded)\n",
    "            else:\n",
    "                final_padded_values.append(padded_val)\n",
    "        \n",
    "        total_weight = sum(cpt_weights)\n",
    "        if total_weight > 0:\n",
    "            aggregated_values = np.sum([val * weight for val, weight in zip(final_padded_values, cpt_weights)], axis=0) / total_weight\n",
    "        else:\n",
    "            aggregated_values = np.sum(final_padded_values, axis=0)\n",
    "        \n",
    "        # Normalize to ensure probabilities sum to 1 for each evidence configuration\n",
    "        values_reshaped = aggregated_values.reshape(max_var_card, -1)\n",
    "        \n",
    "        column_sums = values_reshaped.sum(axis=0)\n",
    "        zero_columns = column_sums == 0\n",
    "        values_normalized = values_reshaped.copy()\n",
    "        \n",
    "        # Normalize non-zero columns\n",
    "        if np.any(~zero_columns):\n",
    "            values_normalized[:, ~zero_columns] = values_reshaped[:, ~zero_columns] / column_sums[~zero_columns]\n",
    "        \n",
    "        # Set uniform distribution for zero columns\n",
    "        if np.any(zero_columns):\n",
    "            values_normalized[:, zero_columns] = 1.0 / max_var_card\n",
    "        \n",
    "        # Reshape back to original shape\n",
    "        final_aggregated_values = values_normalized.reshape(final_shape)\n",
    "        \n",
    "        new_cpt = {\n",
    "            'variable': var,\n",
    "            'variable_card': max_var_card,\n",
    "            'values': final_aggregated_values,\n",
    "            'evidence': all_evidence,\n",
    "            'evidence_card': np.array(max_evidence_cards, dtype=int),\n",
    "            'cardinality': np.array([max_var_card] + max_evidence_cards, dtype=int)\n",
    "        }\n",
    "        aggregated_cpts.append(new_cpt)\n",
    "    \n",
    "    return aggregated_cpts"
   ]
  },
  {
   "cell_type": "code",
   "execution_count": 188,
   "id": "26004bb6",
   "metadata": {},
   "outputs": [],
   "source": [
    "def build_model_from_cpts(cpts):\n",
    "    model = DiscreteBayesianNetwork()\n",
    "    \n",
    "    variable_cardinality = {}\n",
    "    for cpt in cpts:\n",
    "        variable_cardinality[cpt['variable']] = cpt['variable_card']\n",
    "        for ev, ev_card in zip(cpt['evidence'], cpt['evidence_card']):\n",
    "            if ev not in variable_cardinality:\n",
    "                variable_cardinality[ev] = ev_card\n",
    "    \n",
    "    model.add_nodes_from(variable_cardinality.keys())\n",
    "    \n",
    "    for cpt in cpts:\n",
    "        child = cpt['variable']\n",
    "        for parent in cpt['evidence']:\n",
    "            if not model.has_edge(parent, child):\n",
    "                try:\n",
    "                    model.add_edge(parent, child)\n",
    "                except ValueError as e:\n",
    "                    if \"loop\" in str(e).lower():\n",
    "                        print(f\"Skipped edge {parent} -> {child} to avoid cycle\")\n",
    "                    else:\n",
    "                        raise e\n",
    "    \n",
    "    # Marginalize CPD values when parents are dropped\n",
    "    def marginalize_cpd_values(values_array, original_evidence, original_evidence_card, kept_parents):\n",
    "\n",
    "        if not kept_parents:\n",
    "            marginalized = values_array\n",
    "            for _ in range(len(original_evidence)):\n",
    "                marginalized = marginalized.sum(axis=1)  \n",
    "            return marginalized.reshape(-1, 1)\n",
    "        \n",
    "        if len(kept_parents) == len(original_evidence) and all(p in original_evidence for p in kept_parents):\n",
    "            return values_array\n",
    "    \n",
    "        kept_indices = []\n",
    "        for parent in kept_parents:\n",
    "            if parent in original_evidence:\n",
    "                kept_indices.append(original_evidence.index(parent))\n",
    "        \n",
    "        if not kept_indices:\n",
    "            marginalized = values_array\n",
    "            for _ in range(len(original_evidence)):\n",
    "                marginalized = marginalized.sum(axis=1)\n",
    "            return marginalized.reshape(-1, 1)\n",
    "        \n",
    "        # Marginalize out dropped parents\n",
    "        all_indices = list(range(len(original_evidence)))\n",
    "        drop_indices = [i for i in all_indices if i not in kept_indices]\n",
    "        \n",
    "        marginalized = values_array\n",
    "        for drop_idx in sorted(drop_indices, reverse=True):\n",
    "            marginalized = marginalized.sum(axis=drop_idx + 1)  \n",
    "        \n",
    "        if len(kept_indices) > 1:\n",
    "            expected_order = [original_evidence.index(p) for p in kept_parents if p in original_evidence]\n",
    "            current_order = sorted(kept_indices)\n",
    "            if expected_order != current_order:\n",
    "                print(f\"Warning: Parent order changed for some parents\")\n",
    "        \n",
    "        return marginalized\n",
    "    \n",
    "    def normalize_cpd(values):\n",
    "        if values.ndim == 1:\n",
    "            values = values.reshape(-1, 1)\n",
    "        elif values.ndim == 0:\n",
    "            values = values.reshape(1, 1)\n",
    "        \n",
    "        col_sums = values.sum(axis=0, keepdims=True)\n",
    "    \n",
    "        col_sums[col_sums == 0] = 1e-12\n",
    "        normalized = values / col_sums\n",
    "        \n",
    "        if normalized.ndim == 1:\n",
    "            normalized = normalized.reshape(-1, 1)\n",
    "        \n",
    "        return normalized\n",
    "    \n",
    "    cpds = []\n",
    "    for cpt in cpts:\n",
    "        variable = cpt['variable']\n",
    "        variable_card = variable_cardinality[variable]\n",
    "        original_evidence = cpt['evidence']\n",
    "        original_evidence_card = cpt['evidence_card']\n",
    "        \n",
    "        parents = list(model.predecessors(variable))  \n",
    "        \n",
    "        values_array = np.array(cpt['values'])\n",
    "        \n",
    "        marginalized_values = marginalize_cpd_values(\n",
    "            values_array, original_evidence, original_evidence_card, parents\n",
    "        )\n",
    "        \n",
    "        if marginalized_values.ndim == 1:\n",
    "            marginalized_values = marginalized_values.reshape(-1, 1)\n",
    "        elif marginalized_values.ndim == 0:\n",
    "            marginalized_values = marginalized_values.reshape(1, 1)\n",
    "        \n",
    "        normalized_values = normalize_cpd(marginalized_values)\n",
    "        \n",
    "        evidence_card = [variable_cardinality[p] for p in parents] if parents else None\n",
    "        \n",
    "        if parents:\n",
    "            expected_cols = np.prod(evidence_card)\n",
    "\n",
    "            if normalized_values.ndim != 2:\n",
    "                if normalized_values.ndim == 1:\n",
    "                    normalized_values = normalized_values.reshape(-1, 1)\n",
    "                else:\n",
    "                    normalized_values = normalized_values.reshape(variable_card, -1)\n",
    "            \n",
    "            if normalized_values.shape[1] != expected_cols:\n",
    "\n",
    "                if normalized_values.size == variable_card * expected_cols:\n",
    "                    normalized_values = normalized_values.reshape(variable_card, expected_cols)\n",
    "                else:\n",
    "                    if normalized_values.shape[1] < expected_cols:\n",
    "\n",
    "                        missing_factor = expected_cols // normalized_values.shape[1]\n",
    "                        if expected_cols % normalized_values.shape[1] == 0:\n",
    "                            normalized_values = np.repeat(normalized_values, missing_factor, axis=1)\n",
    "                        else:\n",
    "                            uniform_values = np.ones((variable_card, expected_cols)) / variable_card\n",
    "                            normalized_values = uniform_values\n",
    "                            print(f\"Created uniform distribution for {variable}\")\n",
    "                    else:\n",
    "                        normalized_values = normalized_values[:, :expected_cols]\n",
    "                        print(f\"Truncated columns for {variable}\")\n",
    "        else:\n",
    "            if normalized_values.ndim != 2:\n",
    "                normalized_values = normalized_values.reshape(variable_card, 1)\n",
    "        \n",
    "        if normalized_values.ndim != 2:\n",
    "            raise TypeError(f\"After all processing, values for {variable} is still not 2D: shape={normalized_values.shape}, ndim={normalized_values.ndim}\")\n",
    "        \n",
    "        cpd = TabularCPD(\n",
    "            variable=variable,\n",
    "            variable_card=variable_card,\n",
    "            values=normalized_values,\n",
    "            evidence=parents if parents else None,\n",
    "            evidence_card=evidence_card\n",
    "        )\n",
    "        \n",
    "        cpds.append(cpd)\n",
    "    \n",
    "    model.add_cpds(*cpds)\n",
    "    \n",
    "    if not model.check_model():\n",
    "        print(\"Warning: Model validation failed. This might be due to normalization issues.\")\n",
    "        for cpd in model.get_cpds():\n",
    "            if not np.allclose(cpd.values.sum(axis=0), 1.0, rtol=1e-10):\n",
    "                print(f\"CPD for {cpd.variable} does not sum to 1.0\")\n",
    "    \n",
    "    return model"
   ]
  },
  {
   "cell_type": "code",
   "execution_count": 189,
   "id": "e3387d22",
   "metadata": {},
   "outputs": [],
   "source": [
    "def update_network_structure(model, whitelist=None, blacklist=None):\n",
    "        edges = set(model.edges())\n",
    "        if blacklist:\n",
    "            for edge in blacklist:\n",
    "                edges.discard(edge)\n",
    "        \n",
    "        nodes = set(model.nodes())\n",
    "        \n",
    "        new_model = DiscreteBayesianNetwork()\n",
    "        new_model.add_nodes_from(nodes)\n",
    "        new_model.add_edges_from(edges)\n",
    "        \n",
    "        if whitelist:\n",
    "            for edge in whitelist:\n",
    "                parent, child = edge\n",
    "                if parent not in nodes:\n",
    "                    new_model.add_node(parent)\n",
    "                    nodes.add(parent)\n",
    "                if child not in nodes:\n",
    "                    new_model.add_node(child)\n",
    "                    nodes.add(child)\n",
    "                \n",
    "                try:\n",
    "                    new_model.add_edge(parent, child)\n",
    "                except ValueError as e:\n",
    "                    print(f\"Skipped adding edge {edge}: {e}\")\n",
    "        \n",
    "        return new_model"
   ]
  },
  {
   "cell_type": "code",
   "execution_count": 190,
   "id": "253795af",
   "metadata": {},
   "outputs": [],
   "source": [
    "def aggregate_structures(local_models: List[DiscreteBayesianNetwork],\n",
    "                         threshold: int = 2) -> DiscreteBayesianNetwork:\n",
    "    \n",
    "    edge_counts = Counter()\n",
    "    all_nodes = set()\n",
    "\n",
    "    for model in local_models:\n",
    "        all_nodes.update(model.nodes())\n",
    "        edge_counts.update(list(model.edges()))\n",
    "\n",
    "    global_edges = [edge for edge, count in edge_counts.items() if count >= threshold]\n",
    "    \n",
    "    G = nx.DiGraph()\n",
    "    G.add_nodes_from(all_nodes)\n",
    "    \n",
    "    edges_to_keep = []\n",
    "    for u, v in global_edges:\n",
    "        G_temp = nx.DiGraph(edges_to_keep + [(u, v)])\n",
    "        if nx.is_directed_acyclic_graph(G_temp):\n",
    "            edges_to_keep.append((u, v))\n",
    "            \n",
    "    global_model_structure = DiscreteBayesianNetwork(edges_to_keep)\n",
    "    global_model_structure.add_nodes_from(all_nodes) \n",
    "    \n",
    "    print(f\"Aggregated structure has {len(global_model_structure.nodes())} nodes and {len(global_model_structure.edges())} edges.\")\n",
    "    \n",
    "    return global_model_structure"
   ]
  },
  {
   "cell_type": "code",
   "execution_count": 222,
   "id": "be7e6556",
   "metadata": {},
   "outputs": [],
   "source": [
    "def kl_divergence(p, q):\n",
    "    # Compute KL divergence between two discrete distributions p and q\n",
    "    p = np.asarray(p)\n",
    "    q = np.asarray(q)\n",
    "    # Add small value to avoid zero division\n",
    "    p = p + 1e-12\n",
    "    q = q + 1e-12\n",
    "    return np.sum(p * np.log(p / q))\n",
    "\n",
    "def cpds_similarity(cpd1, cpd2):\n",
    "    \"\"\"\n",
    "    Compare two CPDs (assumed tabular) and return a similarity score.\n",
    "    Lower KL-divergence means more similar.\n",
    "    \"\"\"\n",
    "    values1 = cpd1.get_values().flatten()\n",
    "    values2 = cpd2.get_values().flatten()\n",
    "    return -kl_divergence(values1, values2)  # Negative so higher = more similar\n",
    "\n",
    "def intersect_bn_with_cpds(bn1, bn2, threshold=0.5):\n",
    "    common_nodes = set(bn1.nodes()).intersection(set(bn2.nodes()))\n",
    "    edges1 = set(bn1.edges())\n",
    "    edges2 = set(bn2.edges())\n",
    "    common_edges = edges1.intersection(edges2)\n",
    "\n",
    "    # Filter edges by CPD similarity\n",
    "    filtered_edges = []\n",
    "    for u, v in common_edges:\n",
    "        try:\n",
    "            cpd1 = bn1.get_cpds(v)\n",
    "            cpd2 = bn2.get_cpds(v)\n",
    "            sim_score = cpds_similarity(cpd1, cpd2)\n",
    "            if sim_score >= threshold:  # threshold can be tuned\n",
    "                filtered_edges.append((u, v))\n",
    "        except:\n",
    "            # Missing CPDs? Keep edge or skip based on preference\n",
    "            filtered_edges.append((u, v))\n",
    "\n",
    "    bn_intersection = DiscreteBayesianNetwork()\n",
    "    bn_intersection.add_nodes_from(common_nodes)\n",
    "    bn_intersection.add_edges_from(filtered_edges)\n",
    "    return bn_intersection\n"
   ]
  },
  {
   "cell_type": "markdown",
   "id": "3c9fd61e",
   "metadata": {},
   "source": [
    "### Iteration 1"
   ]
  },
  {
   "cell_type": "markdown",
   "id": "0c7de322",
   "metadata": {},
   "source": [
    "#### CLIENT"
   ]
  },
  {
   "cell_type": "code",
   "execution_count": 192,
   "id": "79c8d732",
   "metadata": {},
   "outputs": [
    {
     "name": "stderr",
     "output_type": "stream",
     "text": [
      "INFO:pgmpy: Datatype (N=numerical, C=Categorical Unordered, O=Categorical Ordered) inferred from data: \n",
      " {'bp_diastolic': 'N', 'bp_limit': 'N', 'sg': 'N', 'al': 'N', 'class': 'N', 'rbc': 'N', 'su': 'N', 'pc': 'N', 'pcc': 'N', 'ba': 'N', 'bgr': 'N', 'bu': 'N', 'sod': 'N', 'sc': 'N', 'pot': 'N', 'hemo': 'N', 'pcv': 'N', 'rbcc': 'N', 'wbcc': 'N', 'htn': 'N', 'dm': 'N', 'cad': 'N', 'appet': 'N', 'pe': 'N', 'ane': 'N', 'grf': 'N', 'stage': 'N', 'age': 'N'}\n",
      "INFO:pgmpy: Datatype (N=numerical, C=Categorical Unordered, O=Categorical Ordered) inferred from data: \n",
      " {'bp_diastolic': 'N', 'bp_limit': 'N', 'sg': 'N', 'al': 'N', 'class': 'N', 'rbc': 'N', 'su': 'N', 'pc': 'N', 'pcc': 'N', 'ba': 'N', 'bgr': 'N', 'bu': 'N', 'sod': 'N', 'sc': 'N', 'pot': 'N', 'hemo': 'N', 'pcv': 'N', 'rbcc': 'N', 'wbcc': 'N', 'htn': 'N', 'dm': 'N', 'cad': 'N', 'appet': 'N', 'pe': 'N', 'ane': 'N', 'grf': 'N', 'stage': 'N', 'age': 'N'}\n",
      "INFO:pgmpy: Datatype (N=numerical, C=Categorical Unordered, O=Categorical Ordered) inferred from data: \n",
      " {'bp_diastolic': 'N', 'bp_limit': 'N', 'sg': 'N', 'al': 'N', 'class': 'N', 'rbc': 'N', 'su': 'N', 'pc': 'N', 'pcc': 'N', 'ba': 'N', 'bgr': 'N', 'bu': 'N', 'sod': 'N', 'sc': 'N', 'pot': 'N', 'hemo': 'N', 'pcv': 'N', 'rbcc': 'N', 'wbcc': 'N', 'htn': 'N', 'dm': 'N', 'cad': 'N', 'appet': 'N', 'pe': 'N', 'ane': 'N', 'grf': 'N', 'stage': 'N', 'age': 'N'}\n"
     ]
    },
    {
     "data": {
      "application/vnd.jupyter.widget-view+json": {
       "model_id": "8a8b893a0bc34a59aab5256b93f73885",
       "version_major": 2,
       "version_minor": 0
      },
      "text/plain": [
       "  0%|          | 0/1000000 [00:00<?, ?it/s]"
      ]
     },
     "metadata": {},
     "output_type": "display_data"
    },
    {
     "name": "stderr",
     "output_type": "stream",
     "text": [
      "INFO:pgmpy: Datatype (N=numerical, C=Categorical Unordered, O=Categorical Ordered) inferred from data: \n",
      " {'bp_diastolic': 'N', 'bp_limit': 'N', 'sg': 'N', 'al': 'N', 'class': 'N', 'rbc': 'N', 'su': 'N', 'pc': 'N', 'pcc': 'N', 'ba': 'N', 'bgr': 'N', 'bu': 'N', 'sod': 'N', 'sc': 'N', 'pot': 'N', 'hemo': 'N', 'pcv': 'N', 'rbcc': 'N', 'wbcc': 'N', 'htn': 'N', 'dm': 'N', 'cad': 'N', 'appet': 'N', 'pe': 'N', 'ane': 'N', 'grf': 'N', 'stage': 'N', 'age': 'N'}\n",
      "INFO:pgmpy: Datatype (N=numerical, C=Categorical Unordered, O=Categorical Ordered) inferred from data: \n",
      " {'bp_diastolic': 'N', 'bp_limit': 'N', 'sg': 'N', 'al': 'N', 'class': 'N', 'rbc': 'N', 'su': 'N', 'pc': 'N', 'pcc': 'N', 'ba': 'N', 'bgr': 'N', 'bu': 'N', 'sod': 'N', 'sc': 'N', 'pot': 'N', 'hemo': 'N', 'pcv': 'N', 'rbcc': 'N', 'wbcc': 'N', 'htn': 'N', 'dm': 'N', 'cad': 'N', 'appet': 'N', 'pe': 'N', 'ane': 'N', 'grf': 'N', 'stage': 'N', 'age': 'N'}\n",
      "INFO:pgmpy: Datatype (N=numerical, C=Categorical Unordered, O=Categorical Ordered) inferred from data: \n",
      " {'bp_diastolic': 'N', 'bp_limit': 'N', 'sg': 'N', 'al': 'N', 'class': 'N', 'rbc': 'N', 'su': 'N', 'pc': 'N', 'pcc': 'N', 'ba': 'N', 'bgr': 'N', 'bu': 'N', 'sod': 'N', 'sc': 'N', 'pot': 'N', 'hemo': 'N', 'pcv': 'N', 'rbcc': 'N', 'wbcc': 'N', 'htn': 'N', 'dm': 'N', 'cad': 'N', 'appet': 'N', 'pe': 'N', 'ane': 'N', 'grf': 'N', 'stage': 'N', 'age': 'N'}\n",
      "INFO:pgmpy: Datatype (N=numerical, C=Categorical Unordered, O=Categorical Ordered) inferred from data: \n",
      " {'bp_diastolic': 'N', 'bp_limit': 'N', 'sg': 'N', 'al': 'N', 'class': 'N', 'rbc': 'N', 'su': 'N', 'pc': 'N', 'pcc': 'N', 'ba': 'N', 'bgr': 'N', 'bu': 'N', 'sod': 'N', 'sc': 'N', 'pot': 'N', 'hemo': 'N', 'pcv': 'N', 'rbcc': 'N', 'wbcc': 'N', 'htn': 'N', 'dm': 'N', 'cad': 'N', 'appet': 'N', 'pe': 'N', 'ane': 'N', 'grf': 'N', 'stage': 'N', 'age': 'N'}\n"
     ]
    },
    {
     "data": {
      "application/vnd.jupyter.widget-view+json": {
       "model_id": "16f7980d1e7e4bbaa65ade1e79b69a48",
       "version_major": 2,
       "version_minor": 0
      },
      "text/plain": [
       "  0%|          | 0/1000000 [00:00<?, ?it/s]"
      ]
     },
     "metadata": {},
     "output_type": "display_data"
    },
    {
     "name": "stderr",
     "output_type": "stream",
     "text": [
      "INFO:pgmpy: Datatype (N=numerical, C=Categorical Unordered, O=Categorical Ordered) inferred from data: \n",
      " {'bp_diastolic': 'N', 'bp_limit': 'N', 'sg': 'N', 'al': 'N', 'class': 'N', 'rbc': 'N', 'su': 'N', 'pc': 'N', 'pcc': 'N', 'ba': 'N', 'bgr': 'N', 'bu': 'N', 'sod': 'N', 'sc': 'N', 'pot': 'N', 'hemo': 'N', 'pcv': 'N', 'rbcc': 'N', 'wbcc': 'N', 'htn': 'N', 'dm': 'N', 'cad': 'N', 'appet': 'N', 'pe': 'N', 'ane': 'N', 'grf': 'N', 'stage': 'N', 'age': 'N'}\n",
      "INFO:pgmpy: Datatype (N=numerical, C=Categorical Unordered, O=Categorical Ordered) inferred from data: \n",
      " {'bp_diastolic': 'N', 'bp_limit': 'N', 'sg': 'N', 'al': 'N', 'class': 'N', 'rbc': 'N', 'su': 'N', 'pc': 'N', 'pcc': 'N', 'ba': 'N', 'bgr': 'N', 'bu': 'N', 'sod': 'N', 'sc': 'N', 'pot': 'N', 'hemo': 'N', 'pcv': 'N', 'rbcc': 'N', 'wbcc': 'N', 'htn': 'N', 'dm': 'N', 'cad': 'N', 'appet': 'N', 'pe': 'N', 'ane': 'N', 'grf': 'N', 'stage': 'N', 'age': 'N'}\n",
      "INFO:pgmpy: Datatype (N=numerical, C=Categorical Unordered, O=Categorical Ordered) inferred from data: \n",
      " {'bp_diastolic': 'N', 'bp_limit': 'N', 'sg': 'N', 'al': 'N', 'class': 'N', 'rbc': 'N', 'su': 'N', 'pc': 'N', 'pcc': 'N', 'ba': 'N', 'bgr': 'N', 'bu': 'N', 'sod': 'N', 'sc': 'N', 'pot': 'N', 'hemo': 'N', 'pcv': 'N', 'rbcc': 'N', 'wbcc': 'N', 'htn': 'N', 'dm': 'N', 'cad': 'N', 'appet': 'N', 'pe': 'N', 'ane': 'N', 'grf': 'N', 'stage': 'N', 'age': 'N'}\n",
      "INFO:pgmpy: Datatype (N=numerical, C=Categorical Unordered, O=Categorical Ordered) inferred from data: \n",
      " {'bp_diastolic': 'N', 'bp_limit': 'N', 'sg': 'N', 'al': 'N', 'class': 'N', 'rbc': 'N', 'su': 'N', 'pc': 'N', 'pcc': 'N', 'ba': 'N', 'bgr': 'N', 'bu': 'N', 'sod': 'N', 'sc': 'N', 'pot': 'N', 'hemo': 'N', 'pcv': 'N', 'rbcc': 'N', 'wbcc': 'N', 'htn': 'N', 'dm': 'N', 'cad': 'N', 'appet': 'N', 'pe': 'N', 'ane': 'N', 'grf': 'N', 'stage': 'N', 'age': 'N'}\n"
     ]
    },
    {
     "data": {
      "application/vnd.jupyter.widget-view+json": {
       "model_id": "7435584e13a145e0ab4153e3e6b4f326",
       "version_major": 2,
       "version_minor": 0
      },
      "text/plain": [
       "  0%|          | 0/1000000 [00:00<?, ?it/s]"
      ]
     },
     "metadata": {},
     "output_type": "display_data"
    },
    {
     "name": "stderr",
     "output_type": "stream",
     "text": [
      "INFO:pgmpy: Datatype (N=numerical, C=Categorical Unordered, O=Categorical Ordered) inferred from data: \n",
      " {'bp_diastolic': 'N', 'bp_limit': 'N', 'sg': 'N', 'al': 'N', 'class': 'N', 'rbc': 'N', 'su': 'N', 'pc': 'N', 'pcc': 'N', 'ba': 'N', 'bgr': 'N', 'bu': 'N', 'sod': 'N', 'sc': 'N', 'pot': 'N', 'hemo': 'N', 'pcv': 'N', 'rbcc': 'N', 'wbcc': 'N', 'htn': 'N', 'dm': 'N', 'cad': 'N', 'appet': 'N', 'pe': 'N', 'ane': 'N', 'grf': 'N', 'stage': 'N', 'age': 'N'}\n"
     ]
    }
   ],
   "source": [
    "client1_base_model, _ = create_constrained_client_model(client1_data, blacklist1, whitelist1)\n",
    "client2_base_model, _ = create_constrained_client_model(client2_data, blacklist2, whitelist2)\n",
    "client3_base_model, _ = create_constrained_client_model(client3_data, blacklist3, whitelist3)"
   ]
  },
  {
   "cell_type": "code",
   "execution_count": 193,
   "id": "323552aa",
   "metadata": {},
   "outputs": [
    {
     "name": "stderr",
     "output_type": "stream",
     "text": [
      "INFO:pgmpy: Datatype (N=numerical, C=Categorical Unordered, O=Categorical Ordered) inferred from data: \n",
      " {'bp_diastolic': 'N', 'bp_limit': 'N', 'sg': 'N', 'al': 'N', 'class': 'N', 'rbc': 'N', 'su': 'N', 'pc': 'N', 'pcc': 'N', 'ba': 'N', 'bgr': 'N', 'bu': 'N', 'sod': 'N', 'sc': 'N', 'pot': 'N', 'hemo': 'N', 'pcv': 'N', 'rbcc': 'N', 'wbcc': 'N', 'htn': 'N', 'dm': 'N', 'cad': 'N', 'appet': 'N', 'pe': 'N', 'ane': 'N', 'grf': 'N', 'stage': 'N', 'age': 'N'}\n",
      "INFO:pgmpy: Datatype (N=numerical, C=Categorical Unordered, O=Categorical Ordered) inferred from data: \n",
      " {'bp_diastolic': 'N', 'bp_limit': 'N', 'sg': 'N', 'al': 'N', 'class': 'N', 'rbc': 'N', 'su': 'N', 'pc': 'N', 'pcc': 'N', 'ba': 'N', 'bgr': 'N', 'bu': 'N', 'sod': 'N', 'sc': 'N', 'pot': 'N', 'hemo': 'N', 'pcv': 'N', 'rbcc': 'N', 'wbcc': 'N', 'htn': 'N', 'dm': 'N', 'cad': 'N', 'appet': 'N', 'pe': 'N', 'ane': 'N', 'grf': 'N', 'stage': 'N', 'age': 'N'}\n",
      "INFO:pgmpy: Datatype (N=numerical, C=Categorical Unordered, O=Categorical Ordered) inferred from data: \n",
      " {'bp_diastolic': 'N', 'bp_limit': 'N', 'sg': 'N', 'al': 'N', 'class': 'N', 'rbc': 'N', 'su': 'N', 'pc': 'N', 'pcc': 'N', 'ba': 'N', 'bgr': 'N', 'bu': 'N', 'sod': 'N', 'sc': 'N', 'pot': 'N', 'hemo': 'N', 'pcv': 'N', 'rbcc': 'N', 'wbcc': 'N', 'htn': 'N', 'dm': 'N', 'cad': 'N', 'appet': 'N', 'pe': 'N', 'ane': 'N', 'grf': 'N', 'stage': 'N', 'age': 'N'}\n"
     ]
    }
   ],
   "source": [
    "client1_cpts1 = compute_local_cpts_from_structure_and_data(client1_base_model, client1_data)\n",
    "client2_cpts1 = compute_local_cpts_from_structure_and_data(client2_base_model, client2_data)\n",
    "client3_cpts1 = compute_local_cpts_from_structure_and_data(client3_base_model, client3_data)"
   ]
  },
  {
   "cell_type": "code",
   "execution_count": 194,
   "id": "2d498cd6",
   "metadata": {},
   "outputs": [],
   "source": [
    "clients_cpts_list1 = [client1_cpts1, client2_cpts1, client3_cpts1]"
   ]
  },
  {
   "cell_type": "markdown",
   "id": "c2026c0b",
   "metadata": {},
   "source": [
    "#### COORDINATOR"
   ]
  },
  {
   "cell_type": "code",
   "execution_count": 195,
   "id": "19bbef3e",
   "metadata": {},
   "outputs": [],
   "source": [
    "aggregated_cpts1 = aggregate_cpts(clients_cpts_list1, dataset_sizes)"
   ]
  },
  {
   "cell_type": "code",
   "execution_count": 196,
   "id": "e49a3292",
   "metadata": {},
   "outputs": [
    {
     "name": "stdout",
     "output_type": "stream",
     "text": [
      "Skipped edge al -> class to avoid cycle\n",
      "Skipped edge appet -> pe to avoid cycle\n",
      "Skipped edge class -> pe to avoid cycle\n",
      "Skipped edge pc -> pe to avoid cycle\n",
      "Skipped edge bu -> rbc to avoid cycle\n",
      "Skipped edge pc -> rbc to avoid cycle\n"
     ]
    }
   ],
   "source": [
    "aggregated_network1 = build_model_from_cpts(aggregated_cpts1)"
   ]
  },
  {
   "cell_type": "markdown",
   "id": "bf2a16e0",
   "metadata": {},
   "source": [
    "### Iteration 3"
   ]
  },
  {
   "cell_type": "markdown",
   "id": "574b0ad6",
   "metadata": {},
   "source": [
    "#### CLIENT"
   ]
  },
  {
   "cell_type": "code",
   "execution_count": 197,
   "id": "162659be",
   "metadata": {},
   "outputs": [],
   "source": [
    "# client1_network2, _ = create_constrained_client_model(client1_data, blacklist1, whitelist1)\n",
    "# client2_network2, _ = create_constrained_client_model(client2_data, blacklist2, whitelist2)\n",
    "# client3_network2, _ = create_constrained_client_model(client3_data, blacklist3, whitelist3)"
   ]
  },
  {
   "cell_type": "code",
   "execution_count": 223,
   "id": "71935373",
   "metadata": {},
   "outputs": [],
   "source": [
    "fused_client1_network2 = intersect_bn_with_cpds(client1_base_model, aggregated_network1)\n",
    "fused_client2_network2 = intersect_bn_with_cpds(client2_base_model, aggregated_network1)\n",
    "fused_client3_network2 = intersect_bn_with_cpds(client3_base_model, aggregated_network1)"
   ]
  },
  {
   "cell_type": "code",
   "execution_count": 224,
   "id": "16fa9331",
   "metadata": {},
   "outputs": [
    {
     "name": "stderr",
     "output_type": "stream",
     "text": [
      "INFO:pgmpy: Datatype (N=numerical, C=Categorical Unordered, O=Categorical Ordered) inferred from data: \n",
      " {'bp_diastolic': 'N', 'bp_limit': 'N', 'sg': 'N', 'al': 'N', 'class': 'N', 'rbc': 'N', 'su': 'N', 'pc': 'N', 'pcc': 'N', 'ba': 'N', 'bgr': 'N', 'bu': 'N', 'sod': 'N', 'sc': 'N', 'pot': 'N', 'hemo': 'N', 'pcv': 'N', 'rbcc': 'N', 'wbcc': 'N', 'htn': 'N', 'dm': 'N', 'cad': 'N', 'appet': 'N', 'pe': 'N', 'ane': 'N', 'grf': 'N', 'stage': 'N', 'age': 'N'}\n",
      "INFO:pgmpy: Datatype (N=numerical, C=Categorical Unordered, O=Categorical Ordered) inferred from data: \n",
      " {'bp_diastolic': 'N', 'bp_limit': 'N', 'sg': 'N', 'al': 'N', 'class': 'N', 'rbc': 'N', 'su': 'N', 'pc': 'N', 'pcc': 'N', 'ba': 'N', 'bgr': 'N', 'bu': 'N', 'sod': 'N', 'sc': 'N', 'pot': 'N', 'hemo': 'N', 'pcv': 'N', 'rbcc': 'N', 'wbcc': 'N', 'htn': 'N', 'dm': 'N', 'cad': 'N', 'appet': 'N', 'pe': 'N', 'ane': 'N', 'grf': 'N', 'stage': 'N', 'age': 'N'}\n",
      "INFO:pgmpy: Datatype (N=numerical, C=Categorical Unordered, O=Categorical Ordered) inferred from data: \n",
      " {'bp_diastolic': 'N', 'bp_limit': 'N', 'sg': 'N', 'al': 'N', 'class': 'N', 'rbc': 'N', 'su': 'N', 'pc': 'N', 'pcc': 'N', 'ba': 'N', 'bgr': 'N', 'bu': 'N', 'sod': 'N', 'sc': 'N', 'pot': 'N', 'hemo': 'N', 'pcv': 'N', 'rbcc': 'N', 'wbcc': 'N', 'htn': 'N', 'dm': 'N', 'cad': 'N', 'appet': 'N', 'pe': 'N', 'ane': 'N', 'grf': 'N', 'stage': 'N', 'age': 'N'}\n"
     ]
    }
   ],
   "source": [
    "client1_cpts2 = compute_local_cpts_from_structure_and_data(fused_client1_network2, client1_data)\n",
    "client2_cpts2 = compute_local_cpts_from_structure_and_data(fused_client2_network2, client2_data)\n",
    "client3_cpts2 = compute_local_cpts_from_structure_and_data(fused_client3_network2, client3_data)"
   ]
  },
  {
   "cell_type": "code",
   "execution_count": 225,
   "id": "54cf9314",
   "metadata": {},
   "outputs": [],
   "source": [
    "clients_cpts_list2 = [client1_cpts2, client2_cpts2, client3_cpts2]"
   ]
  },
  {
   "cell_type": "markdown",
   "id": "6ab8d01e",
   "metadata": {},
   "source": [
    "#### COORDINATOR"
   ]
  },
  {
   "cell_type": "code",
   "execution_count": 226,
   "id": "92287285",
   "metadata": {},
   "outputs": [],
   "source": [
    "aggregated_cpts2 = aggregate_cpts(clients_cpts_list2, dataset_sizes)"
   ]
  },
  {
   "cell_type": "code",
   "execution_count": 227,
   "id": "724495fd",
   "metadata": {},
   "outputs": [
    {
     "name": "stdout",
     "output_type": "stream",
     "text": [
      "Created uniform distribution for cad\n"
     ]
    }
   ],
   "source": [
    "aggregated_network2 = build_model_from_cpts(aggregated_cpts2)"
   ]
  },
  {
   "cell_type": "markdown",
   "id": "7b1108d2",
   "metadata": {},
   "source": [
    "### Iteration 3"
   ]
  },
  {
   "cell_type": "markdown",
   "id": "c3424c0d",
   "metadata": {},
   "source": [
    "#### CLIENT"
   ]
  },
  {
   "cell_type": "code",
   "execution_count": 228,
   "id": "c021288b",
   "metadata": {},
   "outputs": [],
   "source": [
    "# client1_network3, _ = create_constrained_client_model(client1_data, blacklist1, whitelist1)\n",
    "# client2_network3, _ = create_constrained_client_model(client2_data, blacklist2, whitelist2)\n",
    "# client3_network3, _ = create_constrained_client_model(client3_data, blacklist3, whitelist3)"
   ]
  },
  {
   "cell_type": "code",
   "execution_count": 229,
   "id": "651c1e6d",
   "metadata": {},
   "outputs": [],
   "source": [
    "fused_client1_network3 = intersect_bn_with_cpds(client1_base_model, aggregated_network2)\n",
    "fused_client2_network3 = intersect_bn_with_cpds(client2_base_model, aggregated_network2)\n",
    "fused_client3_network3 = intersect_bn_with_cpds(client3_base_model, aggregated_network2)"
   ]
  },
  {
   "cell_type": "code",
   "execution_count": 230,
   "id": "5e24648e",
   "metadata": {},
   "outputs": [
    {
     "name": "stderr",
     "output_type": "stream",
     "text": [
      "INFO:pgmpy: Datatype (N=numerical, C=Categorical Unordered, O=Categorical Ordered) inferred from data: \n",
      " {'bp_diastolic': 'N', 'bp_limit': 'N', 'sg': 'N', 'al': 'N', 'class': 'N', 'rbc': 'N', 'su': 'N', 'pc': 'N', 'pcc': 'N', 'ba': 'N', 'bgr': 'N', 'bu': 'N', 'sod': 'N', 'sc': 'N', 'pot': 'N', 'hemo': 'N', 'pcv': 'N', 'rbcc': 'N', 'wbcc': 'N', 'htn': 'N', 'dm': 'N', 'cad': 'N', 'appet': 'N', 'pe': 'N', 'ane': 'N', 'grf': 'N', 'stage': 'N', 'age': 'N'}\n",
      "INFO:pgmpy: Datatype (N=numerical, C=Categorical Unordered, O=Categorical Ordered) inferred from data: \n",
      " {'bp_diastolic': 'N', 'bp_limit': 'N', 'sg': 'N', 'al': 'N', 'class': 'N', 'rbc': 'N', 'su': 'N', 'pc': 'N', 'pcc': 'N', 'ba': 'N', 'bgr': 'N', 'bu': 'N', 'sod': 'N', 'sc': 'N', 'pot': 'N', 'hemo': 'N', 'pcv': 'N', 'rbcc': 'N', 'wbcc': 'N', 'htn': 'N', 'dm': 'N', 'cad': 'N', 'appet': 'N', 'pe': 'N', 'ane': 'N', 'grf': 'N', 'stage': 'N', 'age': 'N'}\n",
      "INFO:pgmpy: Datatype (N=numerical, C=Categorical Unordered, O=Categorical Ordered) inferred from data: \n",
      " {'bp_diastolic': 'N', 'bp_limit': 'N', 'sg': 'N', 'al': 'N', 'class': 'N', 'rbc': 'N', 'su': 'N', 'pc': 'N', 'pcc': 'N', 'ba': 'N', 'bgr': 'N', 'bu': 'N', 'sod': 'N', 'sc': 'N', 'pot': 'N', 'hemo': 'N', 'pcv': 'N', 'rbcc': 'N', 'wbcc': 'N', 'htn': 'N', 'dm': 'N', 'cad': 'N', 'appet': 'N', 'pe': 'N', 'ane': 'N', 'grf': 'N', 'stage': 'N', 'age': 'N'}\n"
     ]
    }
   ],
   "source": [
    "client1_cpts3 = compute_local_cpts_from_structure_and_data(fused_client1_network3, client1_data)\n",
    "client2_cpts3 = compute_local_cpts_from_structure_and_data(fused_client2_network3, client2_data)\n",
    "client3_cpts3 = compute_local_cpts_from_structure_and_data(fused_client3_network3, client3_data)"
   ]
  },
  {
   "cell_type": "code",
   "execution_count": 231,
   "id": "2ceecbce",
   "metadata": {},
   "outputs": [],
   "source": [
    "clients_cpts_list3 = [client1_cpts3, client2_cpts3, client3_cpts3]"
   ]
  },
  {
   "cell_type": "markdown",
   "id": "0efe5e8d",
   "metadata": {},
   "source": [
    "#### COORDINATOR"
   ]
  },
  {
   "cell_type": "code",
   "execution_count": 232,
   "id": "2228e8f1",
   "metadata": {},
   "outputs": [],
   "source": [
    "aggregated_cpts3 = aggregate_cpts(clients_cpts_list3, dataset_sizes)"
   ]
  },
  {
   "cell_type": "code",
   "execution_count": 233,
   "id": "5fe4d563",
   "metadata": {},
   "outputs": [
    {
     "name": "stdout",
     "output_type": "stream",
     "text": [
      "Created uniform distribution for cad\n"
     ]
    }
   ],
   "source": [
    "aggregated_network3 = build_model_from_cpts(aggregated_cpts3)"
   ]
  },
  {
   "cell_type": "markdown",
   "id": "60f9d71c",
   "metadata": {},
   "source": [
    "### Iteration 4"
   ]
  },
  {
   "cell_type": "code",
   "execution_count": 234,
   "id": "a540564c",
   "metadata": {},
   "outputs": [],
   "source": [
    "# client1_network4, _ = create_constrained_client_model(client1_data, blacklist1, whitelist1)\n",
    "# client2_network4, _ = create_constrained_client_model(client2_data, blacklist2, whitelist2)\n",
    "# client3_network4, _ = create_constrained_client_model(client3_data, blacklist3, whitelist3)"
   ]
  },
  {
   "cell_type": "code",
   "execution_count": 235,
   "id": "fb08fc99",
   "metadata": {},
   "outputs": [],
   "source": [
    "fused_client1_network4 = intersect_bn_with_cpds(client1_base_model, aggregated_network3)\n",
    "fused_client2_network4 = intersect_bn_with_cpds(client2_base_model, aggregated_network3)\n",
    "fused_client3_network4 = intersect_bn_with_cpds(client3_base_model, aggregated_network3)"
   ]
  },
  {
   "cell_type": "code",
   "execution_count": 236,
   "id": "833a3d58",
   "metadata": {},
   "outputs": [
    {
     "name": "stderr",
     "output_type": "stream",
     "text": [
      "INFO:pgmpy: Datatype (N=numerical, C=Categorical Unordered, O=Categorical Ordered) inferred from data: \n",
      " {'bp_diastolic': 'N', 'bp_limit': 'N', 'sg': 'N', 'al': 'N', 'class': 'N', 'rbc': 'N', 'su': 'N', 'pc': 'N', 'pcc': 'N', 'ba': 'N', 'bgr': 'N', 'bu': 'N', 'sod': 'N', 'sc': 'N', 'pot': 'N', 'hemo': 'N', 'pcv': 'N', 'rbcc': 'N', 'wbcc': 'N', 'htn': 'N', 'dm': 'N', 'cad': 'N', 'appet': 'N', 'pe': 'N', 'ane': 'N', 'grf': 'N', 'stage': 'N', 'age': 'N'}\n",
      "INFO:pgmpy: Datatype (N=numerical, C=Categorical Unordered, O=Categorical Ordered) inferred from data: \n",
      " {'bp_diastolic': 'N', 'bp_limit': 'N', 'sg': 'N', 'al': 'N', 'class': 'N', 'rbc': 'N', 'su': 'N', 'pc': 'N', 'pcc': 'N', 'ba': 'N', 'bgr': 'N', 'bu': 'N', 'sod': 'N', 'sc': 'N', 'pot': 'N', 'hemo': 'N', 'pcv': 'N', 'rbcc': 'N', 'wbcc': 'N', 'htn': 'N', 'dm': 'N', 'cad': 'N', 'appet': 'N', 'pe': 'N', 'ane': 'N', 'grf': 'N', 'stage': 'N', 'age': 'N'}\n",
      "INFO:pgmpy: Datatype (N=numerical, C=Categorical Unordered, O=Categorical Ordered) inferred from data: \n",
      " {'bp_diastolic': 'N', 'bp_limit': 'N', 'sg': 'N', 'al': 'N', 'class': 'N', 'rbc': 'N', 'su': 'N', 'pc': 'N', 'pcc': 'N', 'ba': 'N', 'bgr': 'N', 'bu': 'N', 'sod': 'N', 'sc': 'N', 'pot': 'N', 'hemo': 'N', 'pcv': 'N', 'rbcc': 'N', 'wbcc': 'N', 'htn': 'N', 'dm': 'N', 'cad': 'N', 'appet': 'N', 'pe': 'N', 'ane': 'N', 'grf': 'N', 'stage': 'N', 'age': 'N'}\n"
     ]
    }
   ],
   "source": [
    "client1_cpts4 = compute_local_cpts_from_structure_and_data(fused_client1_network4, client1_data)\n",
    "client2_cpts4 = compute_local_cpts_from_structure_and_data(fused_client2_network4, client2_data)\n",
    "client3_cpts4 = compute_local_cpts_from_structure_and_data(fused_client3_network4, client3_data)"
   ]
  },
  {
   "cell_type": "code",
   "execution_count": 237,
   "id": "43652517",
   "metadata": {},
   "outputs": [],
   "source": [
    "clients_cpts_list4 = [client1_cpts4, client2_cpts4, client3_cpts4]"
   ]
  },
  {
   "cell_type": "markdown",
   "id": "5ee883d5",
   "metadata": {},
   "source": [
    "#### COORDINATOR"
   ]
  },
  {
   "cell_type": "code",
   "execution_count": 238,
   "id": "28695669",
   "metadata": {},
   "outputs": [],
   "source": [
    "aggregated_cpts4 = aggregate_cpts(clients_cpts_list4, dataset_sizes)"
   ]
  },
  {
   "cell_type": "code",
   "execution_count": 239,
   "id": "8c9cdb27",
   "metadata": {},
   "outputs": [
    {
     "name": "stdout",
     "output_type": "stream",
     "text": [
      "Created uniform distribution for cad\n"
     ]
    }
   ],
   "source": [
    "aggregated_network4 = build_model_from_cpts(aggregated_cpts4)"
   ]
  },
  {
   "cell_type": "code",
   "execution_count": 243,
   "id": "55d74c90",
   "metadata": {},
   "outputs": [
    {
     "data": {
      "image/png": "[encoded data removed]",
      "text/plain": [
       "<Figure size 1000x800 with 1 Axes>"
      ]
     },
     "metadata": {},
     "output_type": "display_data"
    }
   ],
   "source": [
    "visualize_network(aggregated_network3)"
   ]
  },
  {
   "cell_type": "markdown",
   "id": "52d7381e",
   "metadata": {},
   "source": [
    "####"
   ]
  },
  {
   "cell_type": "markdown",
   "id": "153d5dd1",
   "metadata": {},
   "source": []
  },
  {
   "cell_type": "markdown",
   "id": "fbd65683",
   "metadata": {},
   "source": []
  },
  {
   "cell_type": "markdown",
   "id": "43176ac8",
   "metadata": {},
   "source": []
  },
  {
   "cell_type": "markdown",
   "id": "d857239f",
   "metadata": {},
   "source": []
  }
 ],
 "metadata": {
  "kernelspec": {
   "display_name": "bayfednet",
   "language": "python",
   "name": "python3"
  },
  "language_info": {
   "codemirror_mode": {
    "name": "ipython",
    "version": 3
   },
   "file_extension": ".py",
   "mimetype": "text/x-python",
   "name": "python",
   "nbconvert_exporter": "python",
   "pygments_lexer": "ipython3",
   "version": "3.10.18"
  }
 },
 "nbformat": 4,
 "nbformat_minor": 5
}
